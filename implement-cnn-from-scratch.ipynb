{
 "cells": [
  {
   "cell_type": "code",
   "execution_count": null,
   "id": "c86ea90a",
   "metadata": {
    "deletable": false,
    "papermill": {
     "duration": 0.014265,
     "end_time": "2024-07-05T21:33:06.286201",
     "exception": false,
     "start_time": "2024-07-05T21:33:06.271936",
     "status": "completed"
    },
    "tags": []
   },
   "outputs": [],
   "source": []
  },
  {
   "cell_type": "markdown",
   "id": "430319e3",
   "metadata": {
    "papermill": {
     "duration": 0.012604,
     "end_time": "2024-07-05T21:33:06.313029",
     "exception": false,
     "start_time": "2024-07-05T21:33:06.300425",
     "status": "completed"
    },
    "tags": []
   },
   "source": [
    "## 1 - Import Required Packages\n",
    "\n"
   ]
  },
  {
   "cell_type": "code",
   "execution_count": 1,
   "id": "e63201a5",
   "metadata": {
    "execution": {
     "iopub.execute_input": "2024-07-05T21:33:06.342182Z",
     "iopub.status.busy": "2024-07-05T21:33:06.341730Z",
     "iopub.status.idle": "2024-07-05T21:33:06.569600Z",
     "shell.execute_reply": "2024-07-05T21:33:06.568418Z"
    },
    "papermill": {
     "duration": 0.245155,
     "end_time": "2024-07-05T21:33:06.572779",
     "exception": false,
     "start_time": "2024-07-05T21:33:06.327624",
     "status": "completed"
    },
    "tags": []
   },
   "outputs": [],
   "source": [
    "import numpy as np\n",
    "import h5py\n",
    "import matplotlib.pyplot as plt\n",
    "\n",
    "%matplotlib inline\n",
    "plt.rcParams['figure.figsize'] = (5.0, 4.0) # set default size of plots\n",
    "plt.rcParams['image.interpolation'] = 'nearest'\n",
    "# plt.rcParams['image.cmap'] = 'gray'\n",
    "\n",
    "np.random.seed(1)"
   ]
  },
  {
   "cell_type": "markdown",
   "id": "63e05dba",
   "metadata": {
    "papermill": {
     "duration": 0.011958,
     "end_time": "2024-07-05T21:33:06.597692",
     "exception": false,
     "start_time": "2024-07-05T21:33:06.585734",
     "status": "completed"
    },
    "tags": []
   },
   "source": [
    "## 2 - Outline of the Functions Implemented\n",
    "\n",
    "These functions are the building blocks of a convolutional neural network!\n",
    "\n",
    "- Convolution functions:\n",
    "    - Zero Padding\n",
    "    - Convolve window \n",
    "    - Convolution forward\n",
    "    - Convolution backward\n",
    "- Pooling functions:\n",
    "    - Pooling forward\n",
    "    - Create mask \n",
    "    - Distribute value\n",
    "    - Pooling backward\n",
    "    \n",
    "In this notebook, all the functions are implemented from scratch in `numpy`. \n",
    "\n",
    "**Note**: For every forward function, there is a corresponding backward equivalent. Hence, at every step of forward module some parameters are stored in a cache. These parameters are used to compute gradients during backpropagation. "
   ]
  },
  {
   "cell_type": "markdown",
   "id": "de9fc92c",
   "metadata": {
    "papermill": {
     "duration": 0.01197,
     "end_time": "2024-07-05T21:33:06.622187",
     "exception": false,
     "start_time": "2024-07-05T21:33:06.610217",
     "status": "completed"
    },
    "tags": []
   },
   "source": [
    "## 3 - Implementation \n",
    "\n",
    "Although programming frameworks make convolutions easy to use, they remain one of the hardest concepts to understand in Deep Learning. A convolution layer transforms an input volume into an output volume of different size, as shown below. \n",
    "\n",
    "\n",
    "Implementation of  two helper functions: one for zero padding and the other for computing the convolution function itself. "
   ]
  },
  {
   "cell_type": "markdown",
   "id": "78b27f74",
   "metadata": {
    "papermill": {
     "duration": 0.01244,
     "end_time": "2024-07-05T21:33:06.647140",
     "exception": false,
     "start_time": "2024-07-05T21:33:06.634700",
     "status": "completed"
    },
    "tags": []
   },
   "source": [
    "### 3.1 - Zero-Padding\n",
    "\n",
    "Zero-padding adds zeros around the border of an image:"
   ]
  },
  {
   "cell_type": "code",
   "execution_count": 2,
   "id": "ccd34077",
   "metadata": {
    "deletable": false,
    "execution": {
     "iopub.execute_input": "2024-07-05T21:33:06.675767Z",
     "iopub.status.busy": "2024-07-05T21:33:06.675361Z",
     "iopub.status.idle": "2024-07-05T21:33:06.682395Z",
     "shell.execute_reply": "2024-07-05T21:33:06.681190Z"
    },
    "nbgrader": {
     "cell_type": "code",
     "checksum": "a14748505131e4100f550b8afcfb2d33",
     "grade": false,
     "grade_id": "cell-3096786c4bcad84a",
     "locked": false,
     "schema_version": 3,
     "solution": true,
     "task": false
    },
    "papermill": {
     "duration": 0.024762,
     "end_time": "2024-07-05T21:33:06.685068",
     "exception": false,
     "start_time": "2024-07-05T21:33:06.660306",
     "status": "completed"
    },
    "tags": []
   },
   "outputs": [],
   "source": [
    "import numpy as np\n",
    "\n",
    "def zero_pad(X, pad):\n",
    "    X_pad = np.pad(X, ((0, 0), (pad, pad), (pad, pad), (0, 0)), mode='constant')\n",
    "    \n",
    "    return X_pad\n"
   ]
  },
  {
   "cell_type": "markdown",
   "id": "51b87d08",
   "metadata": {
    "papermill": {
     "duration": 0.012041,
     "end_time": "2024-07-05T21:33:06.709629",
     "exception": false,
     "start_time": "2024-07-05T21:33:06.697588",
     "status": "completed"
    },
    "tags": []
   },
   "source": [
    "### Testing the function"
   ]
  },
  {
   "cell_type": "code",
   "execution_count": 3,
   "id": "fb7d57b4",
   "metadata": {
    "deletable": false,
    "execution": {
     "iopub.execute_input": "2024-07-05T21:33:06.741856Z",
     "iopub.status.busy": "2024-07-05T21:33:06.741055Z",
     "iopub.status.idle": "2024-07-05T21:33:07.314457Z",
     "shell.execute_reply": "2024-07-05T21:33:07.313198Z"
    },
    "nbgrader": {
     "cell_type": "code",
     "checksum": "77b102453547ea1396bef12df34e11f8",
     "grade": true,
     "grade_id": "cell-65f1ed75ba39bc0a",
     "locked": true,
     "points": 10,
     "schema_version": 3,
     "solution": false,
     "task": false
    },
    "papermill": {
     "duration": 0.592279,
     "end_time": "2024-07-05T21:33:07.317156",
     "exception": false,
     "start_time": "2024-07-05T21:33:06.724877",
     "status": "completed"
    },
    "tags": []
   },
   "outputs": [
    {
     "name": "stdout",
     "output_type": "stream",
     "text": [
      "x.shape =\n",
      " (4, 3, 3, 2)\n",
      "x_pad.shape =\n",
      " (4, 9, 9, 2)\n",
      "x[1,1] =\n",
      " [[ 0.90085595 -0.68372786]\n",
      " [-0.12289023 -0.93576943]\n",
      " [-0.26788808  0.53035547]]\n",
      "x_pad[1,1] =\n",
      " [[0. 0.]\n",
      " [0. 0.]\n",
      " [0. 0.]\n",
      " [0. 0.]\n",
      " [0. 0.]\n",
      " [0. 0.]\n",
      " [0. 0.]\n",
      " [0. 0.]\n",
      " [0. 0.]]\n"
     ]
    },
    {
     "data": {
      "text/plain": [
       "<matplotlib.image.AxesImage at 0x7c6a50919420>"
      ]
     },
     "execution_count": 3,
     "metadata": {},
     "output_type": "execute_result"
    },
    {
     "data": {
      "image/png": "[encoded data removed]",
      "text/plain": [
       "<Figure size 500x400 with 2 Axes>"
      ]
     },
     "metadata": {},
     "output_type": "display_data"
    }
   ],
   "source": [
    "np.random.seed(1)\n",
    "x = np.random.randn(4, 3, 3, 2)\n",
    "x_pad = zero_pad(x, 3)\n",
    "print (\"x.shape =\\n\", x.shape)\n",
    "print (\"x_pad.shape =\\n\", x_pad.shape)\n",
    "print (\"x[1,1] =\\n\", x[1, 1])\n",
    "print (\"x_pad[1,1] =\\n\", x_pad[1, 1])\n",
    "\n",
    "fig, axarr = plt.subplots(1, 2)\n",
    "axarr[0].set_title('x')\n",
    "axarr[0].imshow(x[0, :, :, 0])\n",
    "axarr[1].set_title('x_pad')\n",
    "axarr[1].imshow(x_pad[0, :, :, 0])\n"
   ]
  },
  {
   "cell_type": "markdown",
   "id": "4a731dc1",
   "metadata": {
    "papermill": {
     "duration": 0.012694,
     "end_time": "2024-07-05T21:33:07.342902",
     "exception": false,
     "start_time": "2024-07-05T21:33:07.330208",
     "status": "completed"
    },
    "tags": []
   },
   "source": [
    "### 3.2 - Single Step of Convolution \n",
    "\n",
    "In this part, a single step of convolution is implemented, in which the filter is applied to a single position of the input. This will be used to build a convolutional unit, which: \n",
    "\n",
    "- Takes an input volume \n",
    "- Applies a filter at every position of the input\n",
    "- Outputs another volume (usually of different size)\n",
    "\n"
   ]
  },
  {
   "cell_type": "code",
   "execution_count": 4,
   "id": "d7f45355",
   "metadata": {
    "deletable": false,
    "execution": {
     "iopub.execute_input": "2024-07-05T21:33:07.372860Z",
     "iopub.status.busy": "2024-07-05T21:33:07.372460Z",
     "iopub.status.idle": "2024-07-05T21:33:07.379038Z",
     "shell.execute_reply": "2024-07-05T21:33:07.377455Z"
    },
    "nbgrader": {
     "cell_type": "code",
     "checksum": "9ef959e74c801cce52d46fb16fb0ba0d",
     "grade": false,
     "grade_id": "cell-bd1b8f799894d4e0",
     "locked": false,
     "schema_version": 3,
     "solution": true,
     "task": false
    },
    "papermill": {
     "duration": 0.027178,
     "end_time": "2024-07-05T21:33:07.383988",
     "exception": false,
     "start_time": "2024-07-05T21:33:07.356810",
     "status": "completed"
    },
    "tags": []
   },
   "outputs": [],
   "source": [
    "def conv_single_step(a_slice_prev, W, b):\n",
    "    s = a_slice_prev * W\n",
    "    \n",
    "    Z = np.sum(s)\n",
    "    \n",
    "    Z = Z + float(b)\n",
    "    \n",
    "    return Z\n"
   ]
  },
  {
   "cell_type": "markdown",
   "id": "7e638b50",
   "metadata": {
    "papermill": {
     "duration": 0.013496,
     "end_time": "2024-07-05T21:33:07.410996",
     "exception": false,
     "start_time": "2024-07-05T21:33:07.397500",
     "status": "completed"
    },
    "tags": []
   },
   "source": [
    "### Testing the function"
   ]
  },
  {
   "cell_type": "code",
   "execution_count": 5,
   "id": "e478e0b6",
   "metadata": {
    "deletable": false,
    "execution": {
     "iopub.execute_input": "2024-07-05T21:33:07.445398Z",
     "iopub.status.busy": "2024-07-05T21:33:07.444075Z",
     "iopub.status.idle": "2024-07-05T21:33:07.454667Z",
     "shell.execute_reply": "2024-07-05T21:33:07.452906Z"
    },
    "nbgrader": {
     "cell_type": "code",
     "checksum": "7e4306fe13522c163e4eb63e7682b7bc",
     "grade": true,
     "grade_id": "cell-a77e63b4119ac3b9",
     "locked": true,
     "points": 10,
     "schema_version": 3,
     "solution": false,
     "task": false
    },
    "papermill": {
     "duration": 0.031843,
     "end_time": "2024-07-05T21:33:07.461212",
     "exception": false,
     "start_time": "2024-07-05T21:33:07.429369",
     "status": "completed"
    },
    "tags": []
   },
   "outputs": [
    {
     "name": "stdout",
     "output_type": "stream",
     "text": [
      "Z = -6.999089450680221\n"
     ]
    },
    {
     "name": "stderr",
     "output_type": "stream",
     "text": [
      "/tmp/ipykernel_18/354161064.py:6: DeprecationWarning: Conversion of an array with ndim > 0 to a scalar is deprecated, and will error in future. Ensure you extract a single element from your array before performing this operation. (Deprecated NumPy 1.25.)\n",
      "  Z = Z + float(b)\n"
     ]
    }
   ],
   "source": [
    "np.random.seed(1)\n",
    "a_slice_prev = np.random.randn(4, 4, 3)\n",
    "W = np.random.randn(4, 4, 3)\n",
    "b = np.random.randn(1, 1, 1)\n",
    "\n",
    "Z = conv_single_step(a_slice_prev, W, b)\n",
    "print(\"Z =\", Z)\n"
   ]
  },
  {
   "cell_type": "markdown",
   "id": "98a8df89",
   "metadata": {
    "papermill": {
     "duration": 0.014314,
     "end_time": "2024-07-05T21:33:07.488914",
     "exception": false,
     "start_time": "2024-07-05T21:33:07.474600",
     "status": "completed"
    },
    "tags": []
   },
   "source": [
    "### 3.3 - Convolutional Neural Networks - Forward Pass\n",
    "\n",
    "In the forward pass, you will take many filters and convolve them on the input. Each 'convolution' gives you a 2D matrix output. You will then stack these outputs to get a 3D volume: \n"
   ]
  },
  {
   "cell_type": "code",
   "execution_count": 6,
   "id": "cf99364b",
   "metadata": {
    "deletable": false,
    "execution": {
     "iopub.execute_input": "2024-07-05T21:33:07.519551Z",
     "iopub.status.busy": "2024-07-05T21:33:07.519046Z",
     "iopub.status.idle": "2024-07-05T21:33:07.535208Z",
     "shell.execute_reply": "2024-07-05T21:33:07.533997Z"
    },
    "nbgrader": {
     "cell_type": "code",
     "checksum": "812d5c174c04b75b9edaf9b77ce3da72",
     "grade": false,
     "grade_id": "cell-00b35b01091c3cdc",
     "locked": false,
     "schema_version": 3,
     "solution": true,
     "task": false
    },
    "papermill": {
     "duration": 0.035804,
     "end_time": "2024-07-05T21:33:07.538781",
     "exception": false,
     "start_time": "2024-07-05T21:33:07.502977",
     "status": "completed"
    },
    "tags": []
   },
   "outputs": [],
   "source": [
    "import numpy as np\n",
    "\n",
    "def zero_pad(X, pad):\n",
    "    return np.pad(X, ((0, 0), (pad, pad), (pad, pad), (0, 0)), mode='constant')\n",
    "\n",
    "def conv_single_step(a_slice_prev, W, b):\n",
    "    s = a_slice_prev * W\n",
    "    Z = np.sum(s)\n",
    "    Z = Z + float(b)\n",
    "    return Z\n",
    "\n",
    "def conv_forward(A_prev, W, b, hparameters):\n",
    "    \n",
    "    # Retrieve dimensions from A_prev's shape (≈1 line)  \n",
    "    (m, n_H_prev, n_W_prev, n_C_prev) = A_prev.shape\n",
    "    \n",
    "    # Retrieve dimensions from W's shape (≈1 line)\n",
    "    (f, f, n_C_prev, n_C) = W.shape\n",
    "    \n",
    "    # Retrieve information from \"hparameters\" (≈2 lines)\n",
    "    stride = hparameters['stride']\n",
    "    pad = hparameters['pad']\n",
    "    \n",
    "    # Compute the dimensions of the CONV output volume using the formula given above. \n",
    "    # Hint: use int() to apply the 'floor' operation. (≈2 lines)\n",
    "    n_H = int((n_H_prev - f + 2 * pad) / stride) + 1\n",
    "    n_W = int((n_W_prev - f + 2 * pad) / stride) + 1\n",
    "    \n",
    "    # Initialize the output volume Z with zeros. (≈1 line)\n",
    "    Z = np.zeros((m, n_H, n_W, n_C))\n",
    "    \n",
    "    # Create A_prev_pad by padding A_prev\n",
    "    A_prev_pad = zero_pad(A_prev, pad)\n",
    "    \n",
    "    for i in range(m):                       # loop over the batch of training examples\n",
    "        a_prev_pad = A_prev_pad[i]           # Select ith training example's padded activation\n",
    "        for h in range(n_H):                 # loop over vertical axis of the output volume\n",
    "            # Find the vertical start and end of the current \"slice\" (≈2 lines)\n",
    "            vert_start = h * stride\n",
    "            vert_end = vert_start + f\n",
    "            \n",
    "            for w in range(n_W):             # loop over horizontal axis of the output volume\n",
    "                # Find the horizontal start and end of the current \"slice\" (≈2 lines)\n",
    "                horiz_start = w * stride\n",
    "                horiz_end = horiz_start + f\n",
    "                \n",
    "                for c in range(n_C):         # loop over channels (= #filters) of the output volume\n",
    "                    # Use the corners to define the (3D) slice of a_prev_pad (See Hint above the cell). (≈1 line)\n",
    "                    a_slice_prev = a_prev_pad[vert_start:vert_end, horiz_start:horiz_end, :]\n",
    "                    \n",
    "                    # Convolve the (3D) slice with the correct filter W and bias b, to get back one output neuron. (≈3 lines)\n",
    "                    weights = W[:, :, :, c]\n",
    "                    biases = b[:, :, :, c]\n",
    "                    Z[i, h, w, c] = conv_single_step(a_slice_prev, weights, biases)\n",
    "    \n",
    "    # Save information in \"cache\" for the backprop\n",
    "    cache = (A_prev, W, b, hparameters)\n",
    "    \n",
    "    return Z, cache\n"
   ]
  },
  {
   "cell_type": "markdown",
   "id": "22aead6e",
   "metadata": {
    "papermill": {
     "duration": 0.013199,
     "end_time": "2024-07-05T21:33:07.566149",
     "exception": false,
     "start_time": "2024-07-05T21:33:07.552950",
     "status": "completed"
    },
    "tags": []
   },
   "source": [
    "### Testing the function"
   ]
  },
  {
   "cell_type": "code",
   "execution_count": 7,
   "id": "5ab09e47",
   "metadata": {
    "deletable": false,
    "execution": {
     "iopub.execute_input": "2024-07-05T21:33:07.594377Z",
     "iopub.status.busy": "2024-07-05T21:33:07.593953Z",
     "iopub.status.idle": "2024-07-05T21:33:07.607349Z",
     "shell.execute_reply": "2024-07-05T21:33:07.606144Z"
    },
    "nbgrader": {
     "cell_type": "code",
     "checksum": "f19fe38e8004fe3581b0a52ac27dc5df",
     "grade": true,
     "grade_id": "cell-429520eed87675d9",
     "locked": true,
     "points": 10,
     "schema_version": 3,
     "solution": false,
     "task": false
    },
    "papermill": {
     "duration": 0.032696,
     "end_time": "2024-07-05T21:33:07.612106",
     "exception": false,
     "start_time": "2024-07-05T21:33:07.579410",
     "status": "completed"
    },
    "tags": []
   },
   "outputs": [
    {
     "name": "stdout",
     "output_type": "stream",
     "text": [
      "Z's mean =\n",
      " 0.5511276474566768\n",
      "Z[0,2,1] =\n",
      " [-2.17796037  8.07171329 -0.5772704   3.36286738  4.48113645 -2.89198428\n",
      " 10.99288867  3.03171932]\n",
      "cache_conv[0][1][2][3] =\n",
      " [-1.1191154   1.9560789  -0.3264995  -1.34267579]\n"
     ]
    },
    {
     "name": "stderr",
     "output_type": "stream",
     "text": [
      "/tmp/ipykernel_18/2958004705.py:9: DeprecationWarning: Conversion of an array with ndim > 0 to a scalar is deprecated, and will error in future. Ensure you extract a single element from your array before performing this operation. (Deprecated NumPy 1.25.)\n",
      "  Z = Z + float(b)\n"
     ]
    }
   ],
   "source": [
    "np.random.seed(1)\n",
    "A_prev = np.random.randn(2, 5, 7, 4)\n",
    "W = np.random.randn(3, 3, 4, 8)\n",
    "b = np.random.randn(1, 1, 1, 8)\n",
    "hparameters = {\"pad\" : 1,\n",
    "               \"stride\": 2}\n",
    "\n",
    "Z, cache_conv = conv_forward(A_prev, W, b, hparameters)\n",
    "z_mean = np.mean(Z)\n",
    "z_0_2_1 = Z[0, 2, 1]\n",
    "cache_0_1_2_3 = cache_conv[0][1][2][3]\n",
    "print(\"Z's mean =\\n\", z_mean)\n",
    "print(\"Z[0,2,1] =\\n\", z_0_2_1)\n",
    "print(\"cache_conv[0][1][2][3] =\\n\", cache_0_1_2_3)\n"
   ]
  },
  {
   "cell_type": "markdown",
   "id": "db335b07",
   "metadata": {
    "papermill": {
     "duration": 0.013442,
     "end_time": "2024-07-05T21:33:07.639290",
     "exception": false,
     "start_time": "2024-07-05T21:33:07.625848",
     "status": "completed"
    },
    "tags": []
   },
   "source": [
    "## 4 - Pooling Layer \n",
    "\n",
    "The pooling (POOL) layer reduces the height and width of the input. It helps reduce computation, as well as helps make feature detectors more invariant to its position in the input. There are two types of pooling layers: \n",
    "\n",
    "- Max-pooling layer: slides an ($f, f$) window over the input and stores the max value of the window in the output.\n",
    "\n",
    "- Average-pooling layer: slides an ($f, f$) window over the input and stores the average value of the window in the output.\n",
    "\n",
    "\n",
    "These pooling layers have no parameters for backpropagation to train. However, they have hyperparameters such as the window size $f$. This specifies the height and width of the $f \\times f$ window you would compute a *max* or *average* over. \n",
    "\n"
   ]
  },
  {
   "cell_type": "code",
   "execution_count": 8,
   "id": "981e17b5",
   "metadata": {
    "deletable": false,
    "execution": {
     "iopub.execute_input": "2024-07-05T21:33:07.667955Z",
     "iopub.status.busy": "2024-07-05T21:33:07.667564Z",
     "iopub.status.idle": "2024-07-05T21:33:07.679485Z",
     "shell.execute_reply": "2024-07-05T21:33:07.678300Z"
    },
    "nbgrader": {
     "cell_type": "code",
     "checksum": "0201a499bc4a2249c65fa3a736985fac",
     "grade": false,
     "grade_id": "cell-aed533a126205ca2",
     "locked": false,
     "schema_version": 3,
     "solution": true,
     "task": false
    },
    "papermill": {
     "duration": 0.029625,
     "end_time": "2024-07-05T21:33:07.682280",
     "exception": false,
     "start_time": "2024-07-05T21:33:07.652655",
     "status": "completed"
    },
    "tags": []
   },
   "outputs": [],
   "source": [
    "import numpy as np\n",
    "\n",
    "def pool_forward(A_prev, hparameters, mode = \"max\"):\n",
    "    \n",
    "    (m, n_H_prev, n_W_prev, n_C_prev) = A_prev.shape\n",
    "    \n",
    "    f = hparameters[\"f\"]\n",
    "    stride = hparameters[\"stride\"]\n",
    "    \n",
    "    n_H = int(1 + (n_H_prev - f) / stride)\n",
    "    n_W = int(1 + (n_W_prev - f) / stride)\n",
    "    n_C = n_C_prev\n",
    "    \n",
    "    A = np.zeros((m, n_H, n_W, n_C))              \n",
    "    \n",
    "    for i in range(m):                         \n",
    "        for h in range(n_H):                     \n",
    "            vert_start = h * stride\n",
    "            vert_end = vert_start + f\n",
    "            \n",
    "            for w in range(n_W):                \n",
    "                horiz_start = w * stride\n",
    "                horiz_end = horiz_start + f\n",
    "                \n",
    "                for c in range(n_C):           \n",
    "                    a_prev_slice = A_prev[i, vert_start:vert_end, horiz_start:horiz_end, c]\n",
    "                    if mode == \"max\":\n",
    "                        A[i, h, w, c] = np.max(a_prev_slice)\n",
    "                    elif mode == \"average\":\n",
    "                        A[i, h, w, c] = np.mean(a_prev_slice)\n",
    "    \n",
    "    cache = (A_prev, hparameters)\n",
    "    \n",
    "    assert(A.shape == (m, n_H, n_W, n_C))\n",
    "    \n",
    "    return A, cache\n"
   ]
  },
  {
   "cell_type": "markdown",
   "id": "700dc2dd",
   "metadata": {
    "papermill": {
     "duration": 0.014646,
     "end_time": "2024-07-05T21:33:07.710677",
     "exception": false,
     "start_time": "2024-07-05T21:33:07.696031",
     "status": "completed"
    },
    "tags": []
   },
   "source": [
    "### Testing Function"
   ]
  },
  {
   "cell_type": "code",
   "execution_count": 9,
   "id": "6be39956",
   "metadata": {
    "deletable": false,
    "execution": {
     "iopub.execute_input": "2024-07-05T21:33:07.741771Z",
     "iopub.status.busy": "2024-07-05T21:33:07.740427Z",
     "iopub.status.idle": "2024-07-05T21:33:08.165898Z",
     "shell.execute_reply": "2024-07-05T21:33:08.164217Z"
    },
    "nbgrader": {
     "cell_type": "code",
     "checksum": "d7c8de693864d9796556e3dcb0f769bc",
     "grade": true,
     "grade_id": "cell-ae96f27f888cec37",
     "locked": true,
     "points": 10,
     "schema_version": 3,
     "solution": false,
     "task": false
    },
    "papermill": {
     "duration": 0.443507,
     "end_time": "2024-07-05T21:33:08.168163",
     "exception": true,
     "start_time": "2024-07-05T21:33:07.724656",
     "status": "failed"
    },
    "tags": []
   },
   "outputs": [
    {
     "name": "stdout",
     "output_type": "stream",
     "text": [
      "CASE 1:\n",
      "\n",
      "mode = max\n"
     ]
    },
    {
     "ename": "NameError",
     "evalue": "name 'A' is not defined",
     "output_type": "error",
     "traceback": [
      "\u001b[0;31m---------------------------------------------------------------------------\u001b[0m",
      "\u001b[0;31mNameError\u001b[0m                                 Traceback (most recent call last)",
      "Cell \u001b[0;32mIn[9], line 8\u001b[0m\n\u001b[1;32m      5\u001b[0m hparameters_case_1 \u001b[38;5;241m=\u001b[39m {\u001b[38;5;124m\"\u001b[39m\u001b[38;5;124mstride\u001b[39m\u001b[38;5;124m\"\u001b[39m : \u001b[38;5;241m1\u001b[39m, \u001b[38;5;124m\"\u001b[39m\u001b[38;5;124mf\u001b[39m\u001b[38;5;124m\"\u001b[39m: \u001b[38;5;241m3\u001b[39m}\n\u001b[1;32m      7\u001b[0m \u001b[38;5;28mprint\u001b[39m(\u001b[38;5;124m\"\u001b[39m\u001b[38;5;124mmode = max\u001b[39m\u001b[38;5;124m\"\u001b[39m)\n\u001b[0;32m----> 8\u001b[0m \u001b[38;5;28mprint\u001b[39m(\u001b[38;5;124m\"\u001b[39m\u001b[38;5;124mA.shape = \u001b[39m\u001b[38;5;124m\"\u001b[39m \u001b[38;5;241m+\u001b[39m \u001b[38;5;28mstr\u001b[39m(\u001b[43mA\u001b[49m\u001b[38;5;241m.\u001b[39mshape))\n\u001b[1;32m      9\u001b[0m \u001b[38;5;28mprint\u001b[39m(\u001b[38;5;124m\"\u001b[39m\u001b[38;5;124mA[1, 1] =\u001b[39m\u001b[38;5;130;01m\\n\u001b[39;00m\u001b[38;5;124m\"\u001b[39m, A[\u001b[38;5;241m1\u001b[39m, \u001b[38;5;241m1\u001b[39m])\n\u001b[1;32m     10\u001b[0m \u001b[38;5;28mprint\u001b[39m(\u001b[38;5;124m\"\u001b[39m\u001b[38;5;124mmode = average\u001b[39m\u001b[38;5;124m\"\u001b[39m)\n",
      "\u001b[0;31mNameError\u001b[0m: name 'A' is not defined"
     ]
    }
   ],
   "source": [
    "# Case 1: stride of 1\n",
    "print(\"CASE 1:\\n\")\n",
    "np.random.seed(1)\n",
    "A_prev_case_1 = np.random.randn(2, 5, 5, 3)\n",
    "hparameters_case_1 = {\"stride\" : 1, \"f\": 3}\n",
    "\n",
    "print(\"mode = max\")\n",
    "print(\"A.shape = \" + str(A.shape))\n",
    "print(\"A[1, 1] =\\n\", A[1, 1])\n",
    "print(\"mode = average\")\n",
    "print(\"A.shape = \" + str(A.shape))\n",
    "print(\"A[1, 1] =\\n\", A[1, 1])\n",
    "\n",
    "\n",
    "# Case 2: stride of 2\n",
    "print(\"\\n\\033[0mCASE 2:\\n\")\n",
    "np.random.seed(1)\n",
    "A_prev_case_2 = np.random.randn(2, 5, 5, 3)\n",
    "hparameters_case_2 = {\"stride\" : 2, \"f\": 3}\n",
    "\n",
    "print(\"mode = max\")\n",
    "print(\"A.shape = \" + str(A.shape))\n",
    "print(\"A[0] =\\n\", A[0])\n",
    "print()\n",
    "\n",
    "A, cache = pool_forward(A_prev_case_2, hparameters_case_2, mode = \"average\")\n",
    "print(\"mode = average\")\n",
    "print(\"A.shape = \" + str(A.shape))\n",
    "print(\"A[1] =\\n\", A[1])\n",
    "\n"
   ]
  },
  {
   "cell_type": "markdown",
   "id": "9f7f47b7",
   "metadata": {
    "papermill": {
     "duration": null,
     "end_time": null,
     "exception": null,
     "start_time": null,
     "status": "pending"
    },
    "tags": []
   },
   "source": [
    "## The forward passes of all the layers of a convolutional network are implemented :))\n"
   ]
  },
  {
   "cell_type": "markdown",
   "id": "225ffa1a",
   "metadata": {
    "papermill": {
     "duration": null,
     "end_time": null,
     "exception": null,
     "start_time": null,
     "status": "pending"
    },
    "tags": []
   },
   "source": [
    "## 5 - Backpropagation in Convolutional Neural Networks (OPTIONAL / UNGRADED)\n",
    "\n"
   ]
  },
  {
   "cell_type": "code",
   "execution_count": null,
   "id": "2af0a719",
   "metadata": {
    "deletable": false,
    "execution": {
     "iopub.execute_input": "2024-07-05T21:31:53.596873Z",
     "iopub.status.busy": "2024-07-05T21:31:53.596526Z",
     "iopub.status.idle": "2024-07-05T21:31:53.615117Z",
     "shell.execute_reply": "2024-07-05T21:31:53.613791Z",
     "shell.execute_reply.started": "2024-07-05T21:31:53.596846Z"
    },
    "nbgrader": {
     "cell_type": "code",
     "checksum": "ac01f3e4e6f7707fb3153d5306020619",
     "grade": false,
     "grade_id": "cell-651d7957ed306d8d",
     "locked": false,
     "schema_version": 3,
     "solution": true,
     "task": false
    },
    "papermill": {
     "duration": null,
     "end_time": null,
     "exception": null,
     "start_time": null,
     "status": "pending"
    },
    "tags": []
   },
   "outputs": [],
   "source": [
    "import numpy as np\n",
    "\n",
    "def conv_backward(dZ, cache):\n",
    "  \n",
    "    \n",
    "    # Retrieve information from \"cache\"\n",
    "    (A_prev, W, b, hparameters) = cache\n",
    "    \n",
    "    # Retrieve dimensions from A_prev's shape\n",
    "    (m, n_H_prev, n_W_prev, n_C_prev) = A_prev.shape\n",
    "    \n",
    "    # Retrieve dimensions from W's shape\n",
    "    (f, f, n_C_prev, n_C) = W.shape\n",
    "    \n",
    "    # Retrieve information from \"hparameters\"\n",
    "    stride = hparameters[\"stride\"]\n",
    "    pad = hparameters[\"pad\"]\n",
    "    \n",
    "    # Retrieve dimensions from dZ's shape\n",
    "    (m, n_H, n_W, n_C) = dZ.shape\n",
    "    \n",
    "    # Initialize dA_prev, dW, db with the correct shapes\n",
    "    dA_prev = np.zeros((m, n_H_prev, n_W_prev, n_C_prev))                          \n",
    "    dW = np.zeros((f, f, n_C_prev, n_C))\n",
    "    db = np.zeros((1, 1, 1, n_C))\n",
    "    \n",
    "    # Pad A_prev and dA_prev\n",
    "    A_prev_pad = zero_pad(A_prev, pad)\n",
    "    dA_prev_pad = zero_pad(dA_prev, pad)\n",
    "    \n",
    "    for i in range(m):                       # loop over the training examples\n",
    "        \n",
    "        # select ith training example from A_prev_pad and dA_prev_pad\n",
    "        a_prev_pad = A_prev_pad[i]\n",
    "        da_prev_pad = dA_prev_pad[i]\n",
    "        \n",
    "        for h in range(n_H):                   # loop over vertical axis of the output volume\n",
    "            for w in range(n_W):               # loop over horizontal axis of the output volume\n",
    "                for c in range(n_C):           # loop over the channels of the output volume\n",
    "                    \n",
    "                    # Find the corners of the current \"slice\"\n",
    "                    vert_start = h * stride\n",
    "                    vert_end = vert_start + f\n",
    "                    horiz_start = w * stride\n",
    "                    horiz_end = horiz_start + f\n",
    "\n",
    "                    # Use the corners to define the slice from a_prev_pad\n",
    "                    a_slice = a_prev_pad[vert_start:vert_end, horiz_start:horiz_end, :]\n",
    "                    \n",
    "                    # Update gradients for the window and the filter's parameters using the code formulas given above\n",
    "                    da_prev_pad[vert_start:vert_end, horiz_start:horiz_end, :] += W[:, :, :, c] * dZ[i, h, w, c]\n",
    "                    dW[:, :, :, c] += a_slice * dZ[i, h, w, c]\n",
    "                    db[:, :, :, c] += dZ[i, h, w, c]\n",
    "                    \n",
    "        # Set the ith training example's dA_prev to the unpadded da_prev_pad (Hint: use X[pad:-pad, pad:-pad, :])\n",
    "        if pad != 0:\n",
    "            dA_prev[i, :, :, :] = da_prev_pad[pad:-pad, pad:-pad, :]\n",
    "        else:\n",
    "            dA_prev[i, :, :, :] = da_prev_pad\n",
    "    \n",
    "    # Making sure your output shape is correct\n",
    "    assert(dA_prev.shape == (m, n_H_prev, n_W_prev, n_C_prev))\n",
    "    \n",
    "    return dA_prev, dW, db\n"
   ]
  },
  {
   "cell_type": "markdown",
   "id": "607a9511",
   "metadata": {
    "papermill": {
     "duration": null,
     "end_time": null,
     "exception": null,
     "start_time": null,
     "status": "pending"
    },
    "tags": []
   },
   "source": [
    "### Testing functions"
   ]
  },
  {
   "cell_type": "code",
   "execution_count": null,
   "id": "5d09a4b4",
   "metadata": {
    "deletable": false,
    "execution": {
     "iopub.execute_input": "2024-07-05T21:31:53.617851Z",
     "iopub.status.busy": "2024-07-05T21:31:53.616864Z",
     "iopub.status.idle": "2024-07-05T21:31:53.684783Z",
     "shell.execute_reply": "2024-07-05T21:31:53.683257Z",
     "shell.execute_reply.started": "2024-07-05T21:31:53.617817Z"
    },
    "nbgrader": {
     "cell_type": "code",
     "checksum": "fa7b07d566b435decefd8c5bd1b5c4db",
     "grade": true,
     "grade_id": "cell-ddba321326674547",
     "locked": true,
     "points": 0,
     "schema_version": 3,
     "solution": false,
     "task": false
    },
    "papermill": {
     "duration": null,
     "end_time": null,
     "exception": null,
     "start_time": null,
     "status": "pending"
    },
    "tags": []
   },
   "outputs": [],
   "source": [
    "np.random.seed(1)\n",
    "A_prev = np.random.randn(10, 4, 4, 3)\n",
    "W = np.random.randn(2, 2, 3, 8)\n",
    "b = np.random.randn(1, 1, 1, 8)\n",
    "hparameters = {\"pad\" : 2,\n",
    "               \"stride\": 2}\n",
    "Z, cache_conv = conv_forward(A_prev, W, b, hparameters)\n",
    "\n",
    "# Test conv_backward\n",
    "dA, dW, db = conv_backward(Z, cache_conv)\n",
    "\n",
    "print(\"dA_mean =\", np.mean(dA))\n",
    "print(\"dW_mean =\", np.mean(dW))\n",
    "print(\"db_mean =\", np.mean(db))\n",
    "\n"
   ]
  },
  {
   "cell_type": "markdown",
   "id": "1a7c801f",
   "metadata": {
    "papermill": {
     "duration": null,
     "end_time": null,
     "exception": null,
     "start_time": null,
     "status": "pending"
    },
    "tags": []
   },
   "source": [
    "## 5.2 Pooling Layer - Backward Pass\n"
   ]
  },
  {
   "cell_type": "code",
   "execution_count": null,
   "id": "9d2d063b",
   "metadata": {
    "deletable": false,
    "execution": {
     "iopub.execute_input": "2024-07-05T21:31:53.689682Z",
     "iopub.status.busy": "2024-07-05T21:31:53.689184Z",
     "iopub.status.idle": "2024-07-05T21:31:53.698723Z",
     "shell.execute_reply": "2024-07-05T21:31:53.697191Z",
     "shell.execute_reply.started": "2024-07-05T21:31:53.689640Z"
    },
    "nbgrader": {
     "cell_type": "code",
     "checksum": "f0088c2c652d94afd13fcc4cf81ff5a0",
     "grade": false,
     "grade_id": "cell-75cdfabbbe3c7905",
     "locked": false,
     "schema_version": 3,
     "solution": true,
     "task": false
    },
    "papermill": {
     "duration": null,
     "end_time": null,
     "exception": null,
     "start_time": null,
     "status": "pending"
    },
    "tags": []
   },
   "outputs": [],
   "source": [
    "def create_mask_from_window(x):\n",
    "  \n",
    "    mask = (x == np.max(x))\n",
    "    \n",
    "    return mask\n"
   ]
  },
  {
   "cell_type": "markdown",
   "id": "6889f44b",
   "metadata": {
    "papermill": {
     "duration": null,
     "end_time": null,
     "exception": null,
     "start_time": null,
     "status": "pending"
    },
    "tags": []
   },
   "source": [
    "### Testing Functions"
   ]
  },
  {
   "cell_type": "code",
   "execution_count": null,
   "id": "6374182d",
   "metadata": {
    "deletable": false,
    "execution": {
     "iopub.execute_input": "2024-07-05T21:31:53.700909Z",
     "iopub.status.busy": "2024-07-05T21:31:53.700522Z",
     "iopub.status.idle": "2024-07-05T21:31:53.713186Z",
     "shell.execute_reply": "2024-07-05T21:31:53.711855Z",
     "shell.execute_reply.started": "2024-07-05T21:31:53.700879Z"
    },
    "nbgrader": {
     "cell_type": "code",
     "checksum": "b239ffa3896a12254d087dc617b92a2a",
     "grade": true,
     "grade_id": "cell-83c1f6349c3fc0ad",
     "locked": true,
     "points": 0,
     "schema_version": 3,
     "solution": false,
     "task": false
    },
    "papermill": {
     "duration": null,
     "end_time": null,
     "exception": null,
     "start_time": null,
     "status": "pending"
    },
    "tags": []
   },
   "outputs": [],
   "source": [
    "np.random.seed(1)\n",
    "x = np.random.randn(2, 3)\n",
    "mask = create_mask_from_window(x)\n",
    "print('x = ', x)\n",
    "print(\"mask = \", mask)\n",
    "\n",
    "x = np.array([[-1, 2, 3],\n",
    "              [2, -3, 2],\n",
    "              [1, 5, -2]])\n",
    "\n",
    "y = np.array([[False, False, False],\n",
    "     [False, False, False],\n",
    "     [False, True, False]])\n",
    "mask = create_mask_from_window(x)\n",
    "\n"
   ]
  },
  {
   "cell_type": "markdown",
   "id": "058ee91c",
   "metadata": {
    "papermill": {
     "duration": null,
     "end_time": null,
     "exception": null,
     "start_time": null,
     "status": "pending"
    },
    "tags": []
   },
   "source": [
    "### 5.2.2 - Average Pooling - Backward Pass \n",
    "\n"
   ]
  },
  {
   "cell_type": "code",
   "execution_count": null,
   "id": "a22d3945",
   "metadata": {
    "deletable": false,
    "execution": {
     "iopub.execute_input": "2024-07-05T21:31:53.715001Z",
     "iopub.status.busy": "2024-07-05T21:31:53.714669Z",
     "iopub.status.idle": "2024-07-05T21:31:53.726084Z",
     "shell.execute_reply": "2024-07-05T21:31:53.724885Z",
     "shell.execute_reply.started": "2024-07-05T21:31:53.714972Z"
    },
    "nbgrader": {
     "cell_type": "code",
     "checksum": "b0a0950ce4306fe20c3345f0108a49bb",
     "grade": false,
     "grade_id": "cell-636557cd1667f01b",
     "locked": false,
     "schema_version": 3,
     "solution": true,
     "task": false
    },
    "papermill": {
     "duration": null,
     "end_time": null,
     "exception": null,
     "start_time": null,
     "status": "pending"
    },
    "tags": []
   },
   "outputs": [],
   "source": [
    "def distribute_value(dz, shape):\n",
    "    \n",
    "    # Retrieve dimensions from shape (≈1 line)\n",
    "    (n_H, n_W) = shape\n",
    "    \n",
    "    # Compute the value to distribute on the matrix (≈1 line)\n",
    "    average = dz / (n_H * n_W)\n",
    "    \n",
    "    # Create a matrix where every entry is the \"average\" value (≈1 line)\n",
    "    a = np.ones(shape) * average\n",
    "    \n",
    "    return a\n"
   ]
  },
  {
   "cell_type": "markdown",
   "id": "e5a9589b",
   "metadata": {
    "papermill": {
     "duration": null,
     "end_time": null,
     "exception": null,
     "start_time": null,
     "status": "pending"
    },
    "tags": []
   },
   "source": [
    "### Testing functions"
   ]
  },
  {
   "cell_type": "code",
   "execution_count": null,
   "id": "60df5df3",
   "metadata": {
    "deletable": false,
    "execution": {
     "iopub.execute_input": "2024-07-05T21:31:53.728072Z",
     "iopub.status.busy": "2024-07-05T21:31:53.727638Z",
     "iopub.status.idle": "2024-07-05T21:31:53.740012Z",
     "shell.execute_reply": "2024-07-05T21:31:53.738728Z",
     "shell.execute_reply.started": "2024-07-05T21:31:53.728037Z"
    },
    "nbgrader": {
     "cell_type": "code",
     "checksum": "fe23f96c0d977d6414842a72fa08d64d",
     "grade": true,
     "grade_id": "cell-d34048b69372dc03",
     "locked": true,
     "points": 0,
     "schema_version": 3,
     "solution": false,
     "task": false
    },
    "papermill": {
     "duration": null,
     "end_time": null,
     "exception": null,
     "start_time": null,
     "status": "pending"
    },
    "tags": []
   },
   "outputs": [],
   "source": [
    "a = distribute_value(2, (2, 2))\n",
    "print('distributed value =', a)\n"
   ]
  },
  {
   "cell_type": "markdown",
   "id": "692c4f9e",
   "metadata": {
    "papermill": {
     "duration": null,
     "end_time": null,
     "exception": null,
     "start_time": null,
     "status": "pending"
    },
    "tags": []
   },
   "source": [
    "### 5.2.3 Putting it Together: Pooling Backward \n",
    "\n",
    "Everything needed to compute backward propagation on a pooling layer is implemented.\n"
   ]
  },
  {
   "cell_type": "code",
   "execution_count": null,
   "id": "684e27b6",
   "metadata": {
    "deletable": false,
    "execution": {
     "iopub.execute_input": "2024-07-05T21:31:53.741936Z",
     "iopub.status.busy": "2024-07-05T21:31:53.741479Z",
     "iopub.status.idle": "2024-07-05T21:31:53.757074Z",
     "shell.execute_reply": "2024-07-05T21:31:53.755794Z",
     "shell.execute_reply.started": "2024-07-05T21:31:53.741905Z"
    },
    "nbgrader": {
     "cell_type": "code",
     "checksum": "857929f83e0cff037571a794aff714de",
     "grade": false,
     "grade_id": "cell-46629e8e78d1ac80",
     "locked": false,
     "schema_version": 3,
     "solution": true,
     "task": false
    },
    "papermill": {
     "duration": null,
     "end_time": null,
     "exception": null,
     "start_time": null,
     "status": "pending"
    },
    "tags": []
   },
   "outputs": [],
   "source": [
    "def pool_backward(dA, cache, mode=\"max\"):\n",
    "    \n",
    "    # Retrieve information from cache\n",
    "    (A_prev, hparameters) = cache\n",
    "    \n",
    "    # Retrieve hyperparameters from \"hparameters\"\n",
    "    stride = hparameters[\"stride\"]\n",
    "    f = hparameters[\"f\"]\n",
    "    \n",
    "    # Retrieve dimensions from A_prev's shape and dA's shape\n",
    "    m, n_H_prev, n_W_prev, n_C_prev = A_prev.shape\n",
    "    m, n_H, n_W, n_C = dA.shape\n",
    "    \n",
    "    # Initialize dA_prev with zeros\n",
    "    dA_prev = np.zeros_like(A_prev)\n",
    "    \n",
    "    for i in range(m):                     # loop over the training examples\n",
    "        \n",
    "        # select training example from A_prev\n",
    "        a_prev = A_prev[i]\n",
    "        \n",
    "        for h in range(n_H):               # loop on the vertical axis\n",
    "            for w in range(n_W):           # loop on the horizontal axis\n",
    "                for c in range(n_C):       # loop over the channels (depth)\n",
    "                    \n",
    "                    # Find the corners of the current \"slice\"\n",
    "                    vert_start = h * stride\n",
    "                    vert_end = vert_start + f\n",
    "                    horiz_start = w * stride\n",
    "                    horiz_end = horiz_start + f\n",
    "                    \n",
    "                    # Compute the backward propagation in both modes\n",
    "                    if mode == \"max\":\n",
    "                        \n",
    "                        # Use the corners and \"c\" to define the current slice from a_prev\n",
    "                        a_prev_slice = a_prev[vert_start:vert_end, horiz_start:horiz_end, c]\n",
    "                        \n",
    "                        # Create the mask from a_prev_slice\n",
    "                        mask = create_mask_from_window(a_prev_slice)\n",
    "                        \n",
    "                        # Set dA_prev to be dA_prev + (the mask multiplied by the correct entry of dA)\n",
    "                        dA_prev[i, vert_start: vert_end, horiz_start: horiz_end, c] += mask * dA[i, h, w, c]\n",
    "                        \n",
    "                    elif mode == \"average\":\n",
    "                        \n",
    "                        # Get the value da from dA\n",
    "                        da = dA[i, h, w, c]\n",
    "                        \n",
    "                        # Define the shape of the filter as fxf\n",
    "                        shape = (f, f)\n",
    "                        \n",
    "                        # Distribute it to get the correct slice of dA_prev.\n",
    "                        dA_prev[i, vert_start: vert_end, horiz_start: horiz_end, c] += distribute_value(da, shape)\n",
    "    \n",
    "    # Making sure your output shape is correct\n",
    "    assert(dA_prev.shape == A_prev.shape)\n",
    "    \n",
    "    return dA_prev\n"
   ]
  },
  {
   "cell_type": "markdown",
   "id": "77a48bcb",
   "metadata": {
    "papermill": {
     "duration": null,
     "end_time": null,
     "exception": null,
     "start_time": null,
     "status": "pending"
    },
    "tags": []
   },
   "source": [
    "### Testing functions"
   ]
  },
  {
   "cell_type": "code",
   "execution_count": null,
   "id": "0e463964",
   "metadata": {
    "deletable": false,
    "execution": {
     "iopub.execute_input": "2024-07-05T21:31:53.758984Z",
     "iopub.status.busy": "2024-07-05T21:31:53.758638Z",
     "iopub.status.idle": "2024-07-05T21:31:53.781651Z",
     "shell.execute_reply": "2024-07-05T21:31:53.780230Z",
     "shell.execute_reply.started": "2024-07-05T21:31:53.758956Z"
    },
    "nbgrader": {
     "cell_type": "code",
     "checksum": "eeae810027f56d8418e9a89d7feec967",
     "grade": true,
     "grade_id": "cell-bf176d59f19c3cba",
     "locked": true,
     "points": 0,
     "schema_version": 3,
     "solution": false,
     "task": false
    },
    "papermill": {
     "duration": null,
     "end_time": null,
     "exception": null,
     "start_time": null,
     "status": "pending"
    },
    "tags": []
   },
   "outputs": [],
   "source": [
    "np.random.seed(1)\n",
    "A_prev = np.random.randn(5, 5, 3, 2)\n",
    "hparameters = {\"stride\" : 1, \"f\": 2}\n",
    "A, cache = pool_forward(A_prev, hparameters)\n",
    "print(A.shape)\n",
    "print(cache[0].shape)\n",
    "dA = np.random.randn(5, 4, 2, 2)\n",
    "\n",
    "dA_prev1 = pool_backward(dA, cache, mode = \"max\")\n",
    "print(\"mode = max\")\n",
    "print('mean of dA = ', np.mean(dA))\n",
    "print('dA_prev1[1,1] = ', dA_prev1[1, 1])  \n",
    "print()\n",
    "\n",
    "dA_prev2 = pool_backward(dA, cache, mode = \"average\")\n",
    "print(\"mode = average\")\n",
    "print('mean of dA = ', np.mean(dA))\n",
    "print('dA_prev2[1,1] = ', dA_prev2[1, 1]) "
   ]
  }
 ],
 "metadata": {
  "coursera": {
   "course_slug": "convolutional-neural-networks",
   "graded_item_id": "qO8ng",
   "launcher_item_id": "7XDi8"
  },
  "kaggle": {
   "accelerator": "none",
   "dataSources": [],
   "dockerImageVersionId": 30732,
   "isGpuEnabled": false,
   "isInternetEnabled": true,
   "language": "python",
   "sourceType": "notebook"
  },
  "kernelspec": {
   "display_name": "Python 3",
   "language": "python",
   "name": "python3"
  },
  "language_info": {
   "codemirror_mode": {
    "name": "ipython",
    "version": 3
   },
   "file_extension": ".py",
   "mimetype": "text/x-python",
   "name": "python",
   "nbconvert_exporter": "python",
   "pygments_lexer": "ipython3",
   "version": "3.10.13"
  },
  "papermill": {
   "default_parameters": {},
   "duration": 5.777516,
   "end_time": "2024-07-05T21:33:08.704886",
   "environment_variables": {},
   "exception": true,
   "input_path": "__notebook__.ipynb",
   "output_path": "__notebook__.ipynb",
   "parameters": {},
   "start_time": "2024-07-05T21:33:02.927370",
   "version": "2.5.0"
  }
 },
 "nbformat": 4,
 "nbformat_minor": 5
}
